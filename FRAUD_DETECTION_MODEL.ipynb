{
  "cells": [
    {
      "cell_type": "markdown",
      "source": [
        "**Libraries Import**"
      ],
      "metadata": {
        "id": "-0H9cLYV9VpP"
      },
      "id": "-0H9cLYV9VpP"
    },
    {
      "cell_type": "code",
      "execution_count": null,
      "id": "a251a90e",
      "metadata": {
        "id": "a251a90e"
      },
      "outputs": [],
      "source": [
        "import pandas as pd\n",
        "import numpy as np\n",
        "from sklearn.preprocessing import LabelEncoder, StandardScaler\n",
        "from sklearn.model_selection import train_test_split\n",
        "from sklearn.ensemble import RandomForestClassifier\n",
        "from sklearn.metrics import accuracy_score, classification_report, confusion_matrix, roc_auc_score, roc_curve\n",
        "import matplotlib.pyplot as plt\n",
        "import seaborn as sns"
      ]
    },
    {
      "cell_type": "markdown",
      "id": "5064c439",
      "metadata": {
        "id": "5064c439"
      },
      "source": [
        "**Task 1: Data Understanding and Preprocessing**"
      ]
    },
    {
      "cell_type": "code",
      "execution_count": null,
      "id": "1c174a87",
      "metadata": {
        "id": "1c174a87",
        "outputId": "c0638047-b2e7-4451-e846-02bf72f9d7d4"
      },
      "outputs": [
        {
          "data": {
            "text/html": [
              "<div>\n",
              "<style scoped>\n",
              "    .dataframe tbody tr th:only-of-type {\n",
              "        vertical-align: middle;\n",
              "    }\n",
              "\n",
              "    .dataframe tbody tr th {\n",
              "        vertical-align: top;\n",
              "    }\n",
              "\n",
              "    .dataframe thead th {\n",
              "        text-align: right;\n",
              "    }\n",
              "</style>\n",
              "<table border=\"1\" class=\"dataframe\">\n",
              "  <thead>\n",
              "    <tr style=\"text-align: right;\">\n",
              "      <th></th>\n",
              "      <th>Transaction ID</th>\n",
              "      <th>Customer ID</th>\n",
              "      <th>Transaction Date</th>\n",
              "      <th>Transaction Amount</th>\n",
              "      <th>Merchant</th>\n",
              "      <th>Location</th>\n",
              "      <th>Transaction Type</th>\n",
              "      <th>Card Type</th>\n",
              "      <th>Is Fraudulent</th>\n",
              "    </tr>\n",
              "  </thead>\n",
              "  <tbody>\n",
              "    <tr>\n",
              "      <th>0</th>\n",
              "      <td>90023589-2ef8-43e7-807a-b4ab92fcc2a4</td>\n",
              "      <td>5d7358c2-ede9-488a-96e4-fa78a9d9d6db</td>\n",
              "      <td>2024-03-05 15:53:49</td>\n",
              "      <td>231.55</td>\n",
              "      <td>Torres-Sanchez</td>\n",
              "      <td>West Adam</td>\n",
              "      <td>Online Purchase</td>\n",
              "      <td>MasterCard</td>\n",
              "      <td>Yes</td>\n",
              "    </tr>\n",
              "    <tr>\n",
              "      <th>1</th>\n",
              "      <td>3eb2e762-9525-4c33-a022-a47e3da3ec5d</td>\n",
              "      <td>0aac2ab4-f920-428a-939a-78ff9858c13d</td>\n",
              "      <td>2024-07-04 01:00:25</td>\n",
              "      <td>1485.69</td>\n",
              "      <td>Brandt, Ross and Butler</td>\n",
              "      <td>New Benjaminbury</td>\n",
              "      <td>In-Store Purchase</td>\n",
              "      <td>Discover</td>\n",
              "      <td>Yes</td>\n",
              "    </tr>\n",
              "    <tr>\n",
              "      <th>2</th>\n",
              "      <td>12d58e99-92d7-46f3-8ac0-e01ac86c15ec</td>\n",
              "      <td>4d6ee059-5df1-4323-8484-2f04aae3d6b3</td>\n",
              "      <td>2024-01-14 00:18:53</td>\n",
              "      <td>497.33</td>\n",
              "      <td>Delgado LLC</td>\n",
              "      <td>Lake Jamieberg</td>\n",
              "      <td>ATM Withdrawal</td>\n",
              "      <td>Amex</td>\n",
              "      <td>Yes</td>\n",
              "    </tr>\n",
              "    <tr>\n",
              "      <th>3</th>\n",
              "      <td>e9cac917-d336-4629-9baa-f8c19691cb80</td>\n",
              "      <td>d7709d08-fa3c-419c-b2fb-bc9ef2997ef9</td>\n",
              "      <td>2023-12-09 03:06:54</td>\n",
              "      <td>287.68</td>\n",
              "      <td>Smith, Mcdonald and Cruz</td>\n",
              "      <td>Lake James</td>\n",
              "      <td>In-Store Purchase</td>\n",
              "      <td>Visa</td>\n",
              "      <td>Yes</td>\n",
              "    </tr>\n",
              "    <tr>\n",
              "      <th>4</th>\n",
              "      <td>acb39efa-d3c7-4bae-9b6c-9cda5ed79503</td>\n",
              "      <td>e505e3e6-7982-4c7f-b0b1-26a0b6d59d31</td>\n",
              "      <td>2024-02-17 03:22:55</td>\n",
              "      <td>213.97</td>\n",
              "      <td>Huff Ltd</td>\n",
              "      <td>Lake Anthony</td>\n",
              "      <td>In-Store Purchase</td>\n",
              "      <td>Discover</td>\n",
              "      <td>No</td>\n",
              "    </tr>\n",
              "  </tbody>\n",
              "</table>\n",
              "</div>"
            ],
            "text/plain": [
              "                         Transaction ID                           Customer ID  \\\n",
              "0  90023589-2ef8-43e7-807a-b4ab92fcc2a4  5d7358c2-ede9-488a-96e4-fa78a9d9d6db   \n",
              "1  3eb2e762-9525-4c33-a022-a47e3da3ec5d  0aac2ab4-f920-428a-939a-78ff9858c13d   \n",
              "2  12d58e99-92d7-46f3-8ac0-e01ac86c15ec  4d6ee059-5df1-4323-8484-2f04aae3d6b3   \n",
              "3  e9cac917-d336-4629-9baa-f8c19691cb80  d7709d08-fa3c-419c-b2fb-bc9ef2997ef9   \n",
              "4  acb39efa-d3c7-4bae-9b6c-9cda5ed79503  e505e3e6-7982-4c7f-b0b1-26a0b6d59d31   \n",
              "\n",
              "      Transaction Date  Transaction Amount                  Merchant  \\\n",
              "0  2024-03-05 15:53:49              231.55            Torres-Sanchez   \n",
              "1  2024-07-04 01:00:25             1485.69   Brandt, Ross and Butler   \n",
              "2  2024-01-14 00:18:53              497.33               Delgado LLC   \n",
              "3  2023-12-09 03:06:54              287.68  Smith, Mcdonald and Cruz   \n",
              "4  2024-02-17 03:22:55              213.97                  Huff Ltd   \n",
              "\n",
              "           Location   Transaction Type   Card Type Is Fraudulent  \n",
              "0         West Adam    Online Purchase  MasterCard           Yes  \n",
              "1  New Benjaminbury  In-Store Purchase    Discover           Yes  \n",
              "2    Lake Jamieberg     ATM Withdrawal        Amex           Yes  \n",
              "3        Lake James  In-Store Purchase        Visa           Yes  \n",
              "4      Lake Anthony  In-Store Purchase    Discover            No  "
            ]
          },
          "execution_count": 2,
          "metadata": {},
          "output_type": "execute_result"
        }
      ],
      "source": [
        "df = pd.read_csv('fraud_detection_data.csv')\n",
        "df.head()"
      ]
    },
    {
      "cell_type": "code",
      "execution_count": null,
      "id": "d875410a",
      "metadata": {
        "id": "d875410a",
        "outputId": "56420a70-37e0-425f-d873-3b2437512618"
      },
      "outputs": [
        {
          "name": "stdout",
          "output_type": "stream",
          "text": [
            "Transaction ID        0\n",
            "Customer ID           0\n",
            "Transaction Date      0\n",
            "Transaction Amount    0\n",
            "Merchant              0\n",
            "Location              0\n",
            "Transaction Type      0\n",
            "Card Type             0\n",
            "Is Fraudulent         0\n",
            "dtype: int64\n"
          ]
        }
      ],
      "source": [
        "# Check for missing values\n",
        "print(df.isnull().sum())"
      ]
    },
    {
      "cell_type": "code",
      "execution_count": null,
      "id": "3999f976",
      "metadata": {
        "id": "3999f976"
      },
      "outputs": [],
      "source": [
        "# Categorical variables handling using LabelEncoder\n",
        "categorical_columns = ['Merchant', 'Location', 'Transaction Type', 'Card Type']\n",
        "le = LabelEncoder()\n",
        "for col in categorical_columns:\n",
        "    df[col] = le.fit_transform(df[col])"
      ]
    },
    {
      "cell_type": "code",
      "execution_count": null,
      "id": "3419f061",
      "metadata": {
        "id": "3419f061"
      },
      "outputs": [],
      "source": [
        "# 'Is Fraudulent' convertion to binary (Yes -> 1, No -> 0)\n",
        "df['Is Fraudulent'] = df['Is Fraudulent'].map({'Yes': 1, 'No': 0})"
      ]
    },
    {
      "cell_type": "code",
      "execution_count": null,
      "id": "6e708578",
      "metadata": {
        "id": "6e708578",
        "outputId": "505311f1-be60-451d-bae2-9bb3edcbdd3f"
      },
      "outputs": [
        {
          "data": {
            "image/png": "[encoded data removed]",
            "text/plain": [
              "<Figure size 432x288 with 1 Axes>"
            ]
          },
          "metadata": {
            "needs_background": "light"
          },
          "output_type": "display_data"
        }
      ],
      "source": [
        "# Countplot for Fraudulent vs Legitimate Transactions\n",
        "sns.countplot(x='Is Fraudulent', data=df)\n",
        "plt.title('Distribution of Fraudulent vs Legitimate Transactions')\n",
        "plt.show()"
      ]
    },
    {
      "cell_type": "markdown",
      "id": "f1dfd824",
      "metadata": {
        "id": "f1dfd824"
      },
      "source": [
        "**Task 2: Feature Engineering**\n"
      ]
    },
    {
      "cell_type": "code",
      "execution_count": null,
      "id": "4a29af35",
      "metadata": {
        "id": "4a29af35"
      },
      "outputs": [],
      "source": [
        "df['Transaction Hour'] = pd.to_datetime(df['Transaction Date']).dt.hour\n",
        "df['Transaction Frequency'] = df.groupby('Customer ID')['Transaction ID'].transform('count')\n",
        "scaler = StandardScaler()\n",
        "df[['Transaction Amount', 'Transaction Frequency']] = scaler.fit_transform(df[['Transaction Amount', 'Transaction Frequency']])"
      ]
    },
    {
      "cell_type": "code",
      "execution_count": null,
      "id": "eca7b50d",
      "metadata": {
        "id": "eca7b50d",
        "outputId": "8fabcf66-242a-4753-95d5-6ddaa745ffbb"
      },
      "outputs": [
        {
          "data": {
            "text/html": [
              "<div>\n",
              "<style scoped>\n",
              "    .dataframe tbody tr th:only-of-type {\n",
              "        vertical-align: middle;\n",
              "    }\n",
              "\n",
              "    .dataframe tbody tr th {\n",
              "        vertical-align: top;\n",
              "    }\n",
              "\n",
              "    .dataframe thead th {\n",
              "        text-align: right;\n",
              "    }\n",
              "</style>\n",
              "<table border=\"1\" class=\"dataframe\">\n",
              "  <thead>\n",
              "    <tr style=\"text-align: right;\">\n",
              "      <th></th>\n",
              "      <th>Transaction Amount</th>\n",
              "      <th>Transaction Frequency</th>\n",
              "    </tr>\n",
              "  </thead>\n",
              "  <tbody>\n",
              "    <tr>\n",
              "      <th>0</th>\n",
              "      <td>-1.284566</td>\n",
              "      <td>0.0</td>\n",
              "    </tr>\n",
              "    <tr>\n",
              "      <th>1</th>\n",
              "      <td>0.875565</td>\n",
              "      <td>0.0</td>\n",
              "    </tr>\n",
              "    <tr>\n",
              "      <th>2</th>\n",
              "      <td>-0.826787</td>\n",
              "      <td>0.0</td>\n",
              "    </tr>\n",
              "    <tr>\n",
              "      <th>3</th>\n",
              "      <td>-1.187888</td>\n",
              "      <td>0.0</td>\n",
              "    </tr>\n",
              "    <tr>\n",
              "      <th>4</th>\n",
              "      <td>-1.314846</td>\n",
              "      <td>0.0</td>\n",
              "    </tr>\n",
              "  </tbody>\n",
              "</table>\n",
              "</div>"
            ],
            "text/plain": [
              "   Transaction Amount  Transaction Frequency\n",
              "0           -1.284566                    0.0\n",
              "1            0.875565                    0.0\n",
              "2           -0.826787                    0.0\n",
              "3           -1.187888                    0.0\n",
              "4           -1.314846                    0.0"
            ]
          },
          "execution_count": 13,
          "metadata": {},
          "output_type": "execute_result"
        }
      ],
      "source": [
        "df[['Transaction Amount', 'Transaction Frequency']].head()"
      ]
    },
    {
      "cell_type": "markdown",
      "id": "1eebae5e",
      "metadata": {
        "id": "1eebae5e"
      },
      "source": [
        "**Task 3: Data Splitting**\n"
      ]
    },
    {
      "cell_type": "code",
      "execution_count": null,
      "id": "4863834c",
      "metadata": {
        "id": "4863834c"
      },
      "outputs": [],
      "source": [
        "# Split the data into features (X) and target (y)\n",
        "X = df.drop(['Transaction ID', 'Customer ID', 'Is Fraudulent', 'Transaction Date'], axis=1)\n",
        "y = df['Is Fraudulent']\n",
        "\n",
        "X_train, X_test, y_train, y_test = train_test_split(X, y, test_size=0.3, random_state=42)"
      ]
    },
    {
      "cell_type": "markdown",
      "source": [
        "**Task 4: Model Building**"
      ],
      "metadata": {
        "id": "rY0-gwC_-G-P"
      },
      "id": "rY0-gwC_-G-P"
    },
    {
      "cell_type": "code",
      "execution_count": null,
      "id": "69702b4a",
      "metadata": {
        "id": "69702b4a",
        "outputId": "5280772f-1a08-4206-a523-a9543ce0accd"
      },
      "outputs": [
        {
          "data": {
            "text/plain": [
              "RandomForestClassifier(random_state=42)"
            ]
          },
          "execution_count": 21,
          "metadata": {},
          "output_type": "execute_result"
        }
      ],
      "source": [
        "rf_model = RandomForestClassifier(random_state=42)\n",
        "rf_model.fit(X_train, y_train)"
      ]
    },
    {
      "cell_type": "markdown",
      "id": "454eca0c",
      "metadata": {
        "id": "454eca0c"
      },
      "source": [
        "**Task 5: Model Training**\n"
      ]
    },
    {
      "cell_type": "code",
      "source": [
        "y_pred = rf_model.predict(X_test)\n",
        "accuracy = accuracy_score(y_test, y_pred)\n",
        "print(f\"Accuracy: {accuracy * 100:.2f}%\")"
      ],
      "metadata": {
        "colab": {
          "base_uri": "https://localhost:8080/"
        },
        "id": "4LmypoHI_RoS",
        "outputId": "1de899a6-53dc-4342-a5c1-04718569c97e"
      },
      "id": "4LmypoHI_RoS",
      "execution_count": 2,
      "outputs": [
        {
          "output_type": "stream",
          "name": "stdout",
          "text": [
            "Accuracy: 54.13%\n"
          ]
        }
      ]
    },
    {
      "cell_type": "markdown",
      "source": [
        "**Task 6: Model Evaluation**"
      ],
      "metadata": {
        "id": "ho8bkxlf_pIV"
      },
      "id": "ho8bkxlf_pIV"
    },
    {
      "cell_type": "code",
      "execution_count": null,
      "id": "064694b4",
      "metadata": {
        "id": "064694b4",
        "outputId": "1fce5ce0-d426-47de-e1fa-6b41f241846b"
      },
      "outputs": [
        {
          "name": "stdout",
          "output_type": "stream",
          "text": [
            "Accuracy: 54.13%\n"
          ]
        },
        {
          "data": {
            "image/png": "[encoded data removed]",
            "text/plain": [
              "<Figure size 432x288 with 2 Axes>"
            ]
          },
          "metadata": {
            "needs_background": "light"
          },
          "output_type": "display_data"
        },
        {
          "name": "stdout",
          "output_type": "stream",
          "text": [
            "              precision    recall  f1-score   support\n",
            "\n",
            "           0       0.55      0.59      0.57        56\n",
            "           1       0.53      0.49      0.51        53\n",
            "\n",
            "    accuracy                           0.54       109\n",
            "   macro avg       0.54      0.54      0.54       109\n",
            "weighted avg       0.54      0.54      0.54       109\n",
            "\n"
          ]
        }
      ],
      "source": [
        "conf_matrix = confusion_matrix(y_test, y_pred)\n",
        "sns.heatmap(conf_matrix, annot=True, fmt=\"d\")\n",
        "plt.title('Confusion Matrix')\n",
        "plt.show()\n",
        "\n",
        "# Classification Report\n",
        "print(classification_report(y_test, y_pred))"
      ]
    }
  ],
  "metadata": {
    "kernelspec": {
      "display_name": "Python 3 (ipykernel)",
      "language": "python",
      "name": "python3"
    },
    "language_info": {
      "codemirror_mode": {
        "name": "ipython",
        "version": 3
      },
      "file_extension": ".py",
      "mimetype": "text/x-python",
      "name": "python",
      "nbconvert_exporter": "python",
      "pygments_lexer": "ipython3",
      "version": "3.9.7"
    },
    "colab": {
      "provenance": []
    }
  },
  "nbformat": 4,
  "nbformat_minor": 5
}